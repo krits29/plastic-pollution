{
  "nbformat": 4,
  "nbformat_minor": 0,
  "metadata": {
    "colab": {
      "name": "KritiPlasticPollutionUnderwater.ipynb",
      "provenance": [],
      "authorship_tag": "ABX9TyOPYV1jJ9kUpjSt9Ay2Q8mf",
      "include_colab_link": true
    },
    "kernelspec": {
      "display_name": "Python 3",
      "name": "python3"
    },
    "language_info": {
      "name": "python"
    }
  },
  "cells": [
    {
      "cell_type": "markdown",
      "metadata": {
        "id": "view-in-github",
        "colab_type": "text"
      },
      "source": [
        "<a href=\"https://colab.research.google.com/github/krits29/plastic-pollution/blob/main/PlasticPollutionUnderwater.ipynb\" target=\"_parent\"><img src=\"https://colab.research.google.com/assets/colab-badge.svg\" alt=\"Open In Colab\"/></a>"
      ]
    },
    {
      "cell_type": "markdown",
      "metadata": {
        "id": "N6X1NYCCk8Fo"
      },
      "source": [
        "## Detection of Deep Plastic"
      ]
    },
    {
      "cell_type": "markdown",
      "metadata": {
        "id": "0bshTqTWk2AB"
      },
      "source": [
        "reference: https://arxiv.org/pdf/2105.01882.pdf"
      ]
    },
    {
      "cell_type": "code",
      "metadata": {
        "id": "XRAS2P6Lk5Md",
        "colab": {
          "base_uri": "https://localhost:8080/"
        },
        "outputId": "e14785cc-1030-4361-e407-1b305ff32557"
      },
      "source": [
        "# Installing Dependencies\n",
        "\n",
        "!git clone https://github.com/ultralytics/yolov5  # clone yolov5 repo\n",
        "!pip install -qr yolov5/requirements.txt  # install dependencies (ignore errors)\n",
        "%cd yolov5\n",
        "\n",
        "import torch\n",
        "from IPython.display import Image, clear_output  # to display images\n",
        "import yolov5\n",
        "from yolov5.utils import * # to download models/datasets\n",
        "\n",
        "clear_output()\n",
        "print('Setup complete. Using torch %s %s' % (torch.__version__, torch.cuda.get_device_properties(0) if torch.cuda.is_available() else 'CPU'))"
      ],
      "execution_count": null,
      "outputs": [
        {
          "output_type": "stream",
          "name": "stdout",
          "text": [
            "Setup complete. Using torch 1.9.0+cu111 CPU\n"
          ]
        }
      ]
    },
    {
      "cell_type": "code",
      "metadata": {
        "colab": {
          "base_uri": "https://localhost:8080/"
        },
        "id": "Is-7hgwFqLa6",
        "outputId": "eb230b51-287a-444d-dd36-e24155d62435"
      },
      "source": [
        "%cd ..\n",
        "!rm -rf train valid test README.roboflow.txt\n",
        "print('Setup complete. Using torch %s %s' % (torch.__version__, torch.cuda.get_device_properties(0) if torch.cuda.is_available() else 'CPU'))"
      ],
      "execution_count": null,
      "outputs": [
        {
          "output_type": "stream",
          "name": "stdout",
          "text": [
            "/content\n",
            "Setup complete. Using torch 1.9.0+cu111 CPU\n"
          ]
        }
      ]
    },
    {
      "cell_type": "code",
      "metadata": {
        "colab": {
          "base_uri": "https://localhost:8080/"
        },
        "id": "3PoPT-O0ygmt",
        "outputId": "e0119232-03b0-44d2-801a-d49624caaf73"
      },
      "source": [
        "%cd ..\n",
        "from google.colab import drive\n",
        "drive.mount('/content/gdrive')"
      ],
      "execution_count": null,
      "outputs": [
        {
          "output_type": "stream",
          "name": "stdout",
          "text": [
            "/\n",
            "Drive already mounted at /content/gdrive; to attempt to forcibly remount, call drive.mount(\"/content/gdrive\", force_remount=True).\n"
          ]
        }
      ]
    },
    {
      "cell_type": "code",
      "metadata": {
        "id": "I0sVA398zVu1",
        "colab": {
          "base_uri": "https://localhost:8080/"
        },
        "outputId": "9ce75ee3-afc8-4b81-a242-8078160313ed"
      },
      "source": [
        "!ln -s /content/gdrive/My\\ Drive/ /mydrive\n",
        "!ls /mydrive/"
      ],
      "execution_count": null,
      "outputs": [
        {
          "output_type": "stream",
          "name": "stdout",
          "text": [
            "'2_3_21.pptx - Column chart 1.gsheet'\t     'Getting started.pdf'\n",
            "'C02 Redmond Green State WiCADi.png'\t      Jovian\n",
            "'C02 Redmond Green State WiCADi.zip'\t      KritiResumeUpdated-1.pdf\n",
            "'Camas Invitational Schedule - Sheet1.gdoc'  'My Drive'\n",
            " Classroom\t\t\t\t      Redmond_Green_Sharma.png\n",
            " CO2_WriteItCADIt.png\t\t\t      Redmond_Green_Sharma.zip\n",
            " CO2_WriteItCADIt.zip\t\t\t      TeachingIntroBoost.mp4\n",
            " DeepPlastic\t\t\t\t     'Ted send.m4a'\n"
          ]
        }
      ]
    },
    {
      "cell_type": "code",
      "metadata": {
        "id": "qQURlPqQzdmj",
        "colab": {
          "base_uri": "https://localhost:8080/"
        },
        "outputId": "a1a779f6-5f6a-4386-f507-5356e11a6877"
      },
      "source": [
        "%cd /content/"
      ],
      "execution_count": null,
      "outputs": [
        {
          "output_type": "stream",
          "name": "stdout",
          "text": [
            "/content\n"
          ]
        }
      ]
    },
    {
      "cell_type": "code",
      "metadata": {
        "id": "fV6bU_qozfcc",
        "colab": {
          "base_uri": "https://localhost:8080/"
        },
        "outputId": "ddc1ef7c-1665-47de-d29a-71ba24a865e3"
      },
      "source": [
        "%cd /content\n",
        "!curl -L \"\" > data.zip; unzip data.zip; rm data.zip "
      ],
      "execution_count": null,
      "outputs": [
        {
          "output_type": "stream",
          "name": "stdout",
          "text": [
            "/content\n",
            "curl: (3) <url> malformed\n",
            "Archive:  data.zip\n",
            "  End-of-central-directory signature not found.  Either this file is not\n",
            "  a zipfile, or it constitutes one disk of a multi-part archive.  In the\n",
            "  latter case the central directory and zipfile comment will be found on\n",
            "  the last disk(s) of this archive.\n",
            "unzip:  cannot find zipfile directory in one of data.zip or\n",
            "        data.zip.zip, and cannot find data.zip.ZIP, period.\n"
          ]
        }
      ]
    },
    {
      "cell_type": "code",
      "metadata": {
        "id": "ylpki7jszhCN",
        "colab": {
          "base_uri": "https://localhost:8080/"
        },
        "outputId": "d07f0517-a854-4cd1-ba53-91f6853b3d70"
      },
      "source": [
        "%cat data.yaml"
      ],
      "execution_count": null,
      "outputs": [
        {
          "output_type": "stream",
          "name": "stdout",
          "text": [
            "cat: data.yaml: No such file or directory\n"
          ]
        }
      ]
    },
    {
      "cell_type": "code",
      "metadata": {
        "id": "cFV4ULHmznS6"
      },
      "source": [
        "import yaml\n",
        "with open(\"data.yaml\", 'r') as stream:\n",
        "    num_classes = str(yaml.safe_load(stream)['nc'])"
      ],
      "execution_count": 1,
      "outputs": []
    },
    {
      "cell_type": "code",
      "metadata": {
        "id": "o8o1UNLazoPs"
      },
      "source": [
        "%cat /content/yolov5/models/yolov5s.yaml"
      ],
      "execution_count": null,
      "outputs": []
    },
    {
      "cell_type": "code",
      "metadata": {
        "id": "h8lqy7nlztvf"
      },
      "source": [
        "from IPython.core.magic import register_line_cell_magic\n",
        "\n",
        "@register_line_cell_magic\n",
        "def writetemplate(line, cell):\n",
        "    with open(line, 'w') as f:\n",
        "        f.write(cell.format(**globals()))"
      ],
      "execution_count": null,
      "outputs": []
    },
    {
      "cell_type": "code",
      "metadata": {
        "id": "fuQor4jPu7VN"
      },
      "source": [
        "%%writetemplate /content/yolov5/models/custom_yolov5s.yaml\n",
        "\n",
        "# parameters\n",
        "nc: {num_classes}  # number of classes\n",
        "depth_multiple: 0.33  # model depth multiple\n",
        "width_multiple: 0.50  # layer channel multiple\n",
        "\n",
        "# anchors\n",
        "anchors:\n",
        "  - [10,13, 16,30, 33,23]  # P3/8\n",
        "  - [30,61, 62,45, 59,119]  # P4/16\n",
        "  - [116,90, 156,198, 373,326]  # P5/32\n",
        "\n",
        "# YOLOv5 backbone\n",
        "backbone:\n",
        "  # [from, number, module, args]\n",
        "  [[-1, 1, Focus, [64, 3]],  # 0-P1/2\n",
        "   [-1, 1, Conv, [128, 3, 2]],  # 1-P2/4\n",
        "   [-1, 3, BottleneckCSP, [128]],\n",
        "   [-1, 1, Conv, [256, 3, 2]],  # 3-P3/8\n",
        "   [-1, 9, BottleneckCSP, [256]],\n",
        "   [-1, 1, Conv, [512, 3, 2]],  # 5-P4/16\n",
        "   [-1, 9, BottleneckCSP, [512]],\n",
        "   [-1, 1, Conv, [1024, 3, 2]],  # 7-P5/32\n",
        "   [-1, 1, SPP, [1024, [5, 9, 13]]],\n",
        "   [-1, 3, BottleneckCSP, [1024, False]],  # 9\n",
        "  ]\n",
        "\n",
        "# YOLOv5 head\n",
        "head:\n",
        "  [[-1, 1, Conv, [512, 1, 1]],\n",
        "   [-1, 1, nn.Upsample, [None, 2, 'nearest']],\n",
        "   [[-1, 6], 1, Concat, [1]],  # cat backbone P4\n",
        "   [-1, 3, BottleneckCSP, [512, False]],  # 13\n",
        "\n",
        "   [-1, 1, Conv, [256, 1, 1]],\n",
        "   [-1, 1, nn.Upsample, [None, 2, 'nearest']],\n",
        "   [[-1, 4], 1, Concat, [1]],  # cat backbone P3\n",
        "   [-1, 3, BottleneckCSP, [256, False]],  # 17 (P3/8-small)\n",
        "\n",
        "   [-1, 1, Conv, [256, 3, 2]],\n",
        "   [[-1, 14], 1, Concat, [1]],  # cat head P4\n",
        "   [-1, 3, BottleneckCSP, [512, False]],  # 20 (P4/16-medium)\n",
        "\n",
        "   [-1, 1, Conv, [512, 3, 2]],\n",
        "   [[-1, 10], 1, Concat, [1]],  # cat head P5\n",
        "   [-1, 3, BottleneckCSP, [1024, False]],  # 23 (P5/32-large)\n",
        "\n",
        "   [[17, 20, 23], 1, Detect, [nc, anchors]],  # Detect(P3, P4, P5)\n",
        "  ]"
      ],
      "execution_count": null,
      "outputs": []
    },
    {
      "cell_type": "code",
      "metadata": {
        "id": "SR5QKZpYvCoB"
      },
      "source": [
        "# train yolov5s on custom data for 50 epochs (time performance)\n",
        "%%time\n",
        "%cd /content/yolov5/\n",
        "!python train.py --img 416 --batch 16 --epochs 500 --data '../data.yaml' --cfg ./models/custom_yolov5s.yaml --weights 'path to weights' --name 'name' --cache"
      ],
      "execution_count": null,
      "outputs": []
    },
    {
      "cell_type": "code",
      "metadata": {
        "id": "CPGtP6EavSyO"
      },
      "source": [
        "!rm -rf ../valid/labels.cache"
      ],
      "execution_count": null,
      "outputs": []
    },
    {
      "cell_type": "code",
      "metadata": {
        "id": "FaJNKAnXvU2h"
      },
      "source": [
        "%cd /content/yolov5/\n",
        "!python test.py --data '../data.yaml' --img 416 --conf 0.40  --weights 'path to weights'"
      ],
      "execution_count": null,
      "outputs": []
    }
  ]
}